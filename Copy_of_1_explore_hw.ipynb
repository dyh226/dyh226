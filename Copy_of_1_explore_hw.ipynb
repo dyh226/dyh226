{
  "nbformat": 4,
  "nbformat_minor": 0,
  "metadata": {
    "colab": {
      "name": "Copy of 1-explore-hw.ipynb",
      "provenance": [],
      "include_colab_link": true
    },
    "kernelspec": {
      "name": "python3",
      "display_name": "Python 3"
    }
  },
  "cells": [
    {
      "cell_type": "markdown",
      "metadata": {
        "id": "view-in-github",
        "colab_type": "text"
      },
      "source": [
        "<a href=\"https://colab.research.google.com/github/dyh226/dyh226/blob/master/Copy_of_1_explore_hw.ipynb\" target=\"_parent\"><img src=\"https://colab.research.google.com/assets/colab-badge.svg\" alt=\"Open In Colab\"/></a>"
      ]
    },
    {
      "cell_type": "markdown",
      "metadata": {
        "id": "HbQrvipkYPOV",
        "colab_type": "text"
      },
      "source": [
        "Assignment: Exploratory data analysis\n",
        "=====================================\n",
        "\n",
        "**TODO**: Edit this cell to fill in your NYU Net ID and your name:\n",
        "\n",
        "-   **Net ID**: DYH226\n",
        "-   **Name**: Claire Lym"
      ]
    },
    {
      "cell_type": "markdown",
      "metadata": {
        "id": "RixRUAU6YPOW",
        "colab_type": "text"
      },
      "source": [
        "Introduction\n",
        "------------\n",
        "\n",
        "In this assignment, we will practice using exploratory data analysis on\n",
        "Google’s COVID-19 Community Mobility data.\n",
        "\n",
        "This data was collected from Google Maps users around the world over the\n",
        "last few months - including you, *if* you have Google Maps on your phone\n",
        "and have turned on the Location History setting. It combines location\n",
        "history from a large number of users to capture the overall increase or\n",
        "decrease in time spent in places such as: retail and recreation\n",
        "facilities, groceries and pharmacies, parks, transit stations,\n",
        "workplaces, and residences.\n",
        "\n",
        "As you work through this notebook, you will see that some text and code\n",
        "cells are marked with a “TODO” at the top. You’ll have to edit these\n",
        "cells to fill in the code or answer the questions as indicated."
      ]
    },
    {
      "cell_type": "markdown",
      "metadata": {
        "id": "-C6AR97tYPOX",
        "colab_type": "text"
      },
      "source": [
        "Learn about the data\n",
        "--------------------\n",
        "\n",
        "First, it is worthwhile to learn more about the data: how it is\n",
        "collected, what is included, how Google gets consent to collect this\n",
        "data, and how user privacy is protected. Google provides several\n",
        "resources for learning about the data:\n",
        "\n",
        "-   [Blog\n",
        "    post](https://www.blog.google/technology/health/covid-19-community-mobility-reports?hl=en)\n",
        "-   [About this\n",
        "    data](https://www.google.com/covid19/mobility/data_documentation.html?hl=en#about-this-data)\n",
        "-   [Understand the\n",
        "    data](https://support.google.com/covid19-mobility/answer/9825414?hl=en&ref_topic=9822927)"
      ]
    },
    {
      "cell_type": "markdown",
      "metadata": {
        "id": "AbHz-1ZOYPOY",
        "colab_type": "text"
      },
      "source": [
        "Read in data\n",
        "------------\n",
        "\n",
        "Now you are ready to read the data into your notebook.\n",
        "\n",
        "Visit Google’s web page for the [COVID-19 Community\n",
        "Mobility](https://www.google.com/covid19/mobility/) project to get the\n",
        "URL for the data.\n",
        "\n",
        "(Specific instructions will depend on your browser and operating system,\n",
        "but on my laptop, I can get the URL by right-clicking on the button that\n",
        "says “Download global CSV” and choosing “Copy Link Address”.)\n",
        "\n",
        "Then, in the following cells, use that URL to read the data into a\n",
        "pandas Data Frame called `df`. (You can follow the example in the\n",
        "“Exploratory data analysis” notebook from this week’s lesson.)"
      ]
    },
    {
      "cell_type": "code",
      "metadata": {
        "id": "KtD613zjYPOZ",
        "colab_type": "code",
        "colab": {}
      },
      "source": [
        "import pandas as pd\n",
        "import seaborn as sns\n",
        "import matplotlib.pyplot as plt"
      ],
      "execution_count": 104,
      "outputs": []
    },
    {
      "cell_type": "code",
      "metadata": {
        "id": "vdWjJfr0YPOg",
        "colab_type": "code",
        "colab": {
          "base_uri": "https://localhost:8080/",
          "height": 51
        },
        "outputId": "07669371-bf70-436c-e141-fb77d7b6c1e3"
      },
      "source": [
        "# TODO Q1\n",
        "url = 'https://www.gstatic.com/covid19/mobility/Global_Mobility_Report.csv?cachebust=31928890d4c9fde9'\n",
        "df = pd.read_csv(url, nrows = 1000000)"
      ],
      "execution_count": 105,
      "outputs": [
        {
          "output_type": "stream",
          "text": [
            "/usr/local/lib/python3.6/dist-packages/IPython/core/interactiveshell.py:2718: DtypeWarning: Columns (3) have mixed types.Specify dtype option on import or set low_memory=False.\n",
            "  interactivity=interactivity, compiler=compiler, result=result)\n"
          ],
          "name": "stderr"
        }
      ]
    },
    {
      "cell_type": "markdown",
      "metadata": {
        "id": "0RE6yKNkYPOk",
        "colab_type": "text"
      },
      "source": [
        "Use the `info()` and `head()` functions to show some basic information\n",
        "about the data and to look at the first few samples."
      ]
    },
    {
      "cell_type": "code",
      "metadata": {
        "id": "zAT_vT0tYPOl",
        "colab_type": "code",
        "colab": {
          "base_uri": "https://localhost:8080/",
          "height": 357
        },
        "outputId": "c1e009a7-0a7a-41c5-ab65-0e78e3a697cf"
      },
      "source": [
        "# TODO Q2\n",
        "df.info()"
      ],
      "execution_count": 106,
      "outputs": [
        {
          "output_type": "stream",
          "text": [
            "<class 'pandas.core.frame.DataFrame'>\n",
            "RangeIndex: 547922 entries, 0 to 547921\n",
            "Data columns (total 13 columns):\n",
            " #   Column                                              Non-Null Count   Dtype  \n",
            "---  ------                                              --------------   -----  \n",
            " 0   country_region_code                                 546981 non-null  object \n",
            " 1   country_region                                      547922 non-null  object \n",
            " 2   sub_region_1                                        531587 non-null  object \n",
            " 3   sub_region_2                                        316625 non-null  object \n",
            " 4   iso_3166_2_code                                     198752 non-null  object \n",
            " 5   census_fips_code                                    316746 non-null  float64\n",
            " 6   date                                                547922 non-null  object \n",
            " 7   retail_and_recreation_percent_change_from_baseline  423131 non-null  float64\n",
            " 8   grocery_and_pharmacy_percent_change_from_baseline   406061 non-null  float64\n",
            " 9   parks_percent_change_from_baseline                  252128 non-null  float64\n",
            " 10  transit_stations_percent_change_from_baseline       292057 non-null  float64\n",
            " 11  workplaces_percent_change_from_baseline             534124 non-null  float64\n",
            " 12  residential_percent_change_from_baseline            302313 non-null  float64\n",
            "dtypes: float64(7), object(6)\n",
            "memory usage: 54.3+ MB\n"
          ],
          "name": "stdout"
        }
      ]
    },
    {
      "cell_type": "code",
      "metadata": {
        "id": "H9NX0C1tYPOp",
        "colab_type": "code",
        "colab": {
          "base_uri": "https://localhost:8080/",
          "height": 309
        },
        "outputId": "9bce3d7d-4b0d-4602-f212-4266f26b77ce"
      },
      "source": [
        "# TODO Q3\n",
        "df.head()"
      ],
      "execution_count": 107,
      "outputs": [
        {
          "output_type": "execute_result",
          "data": {
            "text/html": [
              "<div>\n",
              "<style scoped>\n",
              "    .dataframe tbody tr th:only-of-type {\n",
              "        vertical-align: middle;\n",
              "    }\n",
              "\n",
              "    .dataframe tbody tr th {\n",
              "        vertical-align: top;\n",
              "    }\n",
              "\n",
              "    .dataframe thead th {\n",
              "        text-align: right;\n",
              "    }\n",
              "</style>\n",
              "<table border=\"1\" class=\"dataframe\">\n",
              "  <thead>\n",
              "    <tr style=\"text-align: right;\">\n",
              "      <th></th>\n",
              "      <th>country_region_code</th>\n",
              "      <th>country_region</th>\n",
              "      <th>sub_region_1</th>\n",
              "      <th>sub_region_2</th>\n",
              "      <th>iso_3166_2_code</th>\n",
              "      <th>census_fips_code</th>\n",
              "      <th>date</th>\n",
              "      <th>retail_and_recreation_percent_change_from_baseline</th>\n",
              "      <th>grocery_and_pharmacy_percent_change_from_baseline</th>\n",
              "      <th>parks_percent_change_from_baseline</th>\n",
              "      <th>transit_stations_percent_change_from_baseline</th>\n",
              "      <th>workplaces_percent_change_from_baseline</th>\n",
              "      <th>residential_percent_change_from_baseline</th>\n",
              "    </tr>\n",
              "  </thead>\n",
              "  <tbody>\n",
              "    <tr>\n",
              "      <th>0</th>\n",
              "      <td>AE</td>\n",
              "      <td>United Arab Emirates</td>\n",
              "      <td>NaN</td>\n",
              "      <td>NaN</td>\n",
              "      <td>NaN</td>\n",
              "      <td>NaN</td>\n",
              "      <td>2020-02-15</td>\n",
              "      <td>0.0</td>\n",
              "      <td>4.0</td>\n",
              "      <td>5.0</td>\n",
              "      <td>0.0</td>\n",
              "      <td>2.0</td>\n",
              "      <td>1.0</td>\n",
              "    </tr>\n",
              "    <tr>\n",
              "      <th>1</th>\n",
              "      <td>AE</td>\n",
              "      <td>United Arab Emirates</td>\n",
              "      <td>NaN</td>\n",
              "      <td>NaN</td>\n",
              "      <td>NaN</td>\n",
              "      <td>NaN</td>\n",
              "      <td>2020-02-16</td>\n",
              "      <td>1.0</td>\n",
              "      <td>4.0</td>\n",
              "      <td>4.0</td>\n",
              "      <td>1.0</td>\n",
              "      <td>2.0</td>\n",
              "      <td>1.0</td>\n",
              "    </tr>\n",
              "    <tr>\n",
              "      <th>2</th>\n",
              "      <td>AE</td>\n",
              "      <td>United Arab Emirates</td>\n",
              "      <td>NaN</td>\n",
              "      <td>NaN</td>\n",
              "      <td>NaN</td>\n",
              "      <td>NaN</td>\n",
              "      <td>2020-02-17</td>\n",
              "      <td>-1.0</td>\n",
              "      <td>1.0</td>\n",
              "      <td>5.0</td>\n",
              "      <td>1.0</td>\n",
              "      <td>2.0</td>\n",
              "      <td>1.0</td>\n",
              "    </tr>\n",
              "    <tr>\n",
              "      <th>3</th>\n",
              "      <td>AE</td>\n",
              "      <td>United Arab Emirates</td>\n",
              "      <td>NaN</td>\n",
              "      <td>NaN</td>\n",
              "      <td>NaN</td>\n",
              "      <td>NaN</td>\n",
              "      <td>2020-02-18</td>\n",
              "      <td>-2.0</td>\n",
              "      <td>1.0</td>\n",
              "      <td>5.0</td>\n",
              "      <td>0.0</td>\n",
              "      <td>2.0</td>\n",
              "      <td>1.0</td>\n",
              "    </tr>\n",
              "    <tr>\n",
              "      <th>4</th>\n",
              "      <td>AE</td>\n",
              "      <td>United Arab Emirates</td>\n",
              "      <td>NaN</td>\n",
              "      <td>NaN</td>\n",
              "      <td>NaN</td>\n",
              "      <td>NaN</td>\n",
              "      <td>2020-02-19</td>\n",
              "      <td>-2.0</td>\n",
              "      <td>0.0</td>\n",
              "      <td>4.0</td>\n",
              "      <td>-1.0</td>\n",
              "      <td>2.0</td>\n",
              "      <td>1.0</td>\n",
              "    </tr>\n",
              "  </tbody>\n",
              "</table>\n",
              "</div>"
            ],
            "text/plain": [
              "  country_region_code  ... residential_percent_change_from_baseline\n",
              "0                  AE  ...                                      1.0\n",
              "1                  AE  ...                                      1.0\n",
              "2                  AE  ...                                      1.0\n",
              "3                  AE  ...                                      1.0\n",
              "4                  AE  ...                                      1.0\n",
              "\n",
              "[5 rows x 13 columns]"
            ]
          },
          "metadata": {
            "tags": []
          },
          "execution_count": 107
        }
      ]
    },
    {
      "cell_type": "markdown",
      "metadata": {
        "id": "xAZG5NOwYPOv",
        "colab_type": "text"
      },
      "source": [
        "Basic data manipulations\n",
        "------------------------"
      ]
    },
    {
      "cell_type": "markdown",
      "metadata": {
        "id": "lLh0vOpaYPOw",
        "colab_type": "text"
      },
      "source": [
        "The data includes a date field, but it may have been read in as a\n",
        "string, rather than as a `datetime`. If that’s the case, use\n",
        "`to_datetime()` to convert the field into a datetime format. (You can\n",
        "follow the example in the “Exploratory data analysis” notebook from this\n",
        "week’s lesson.)\n",
        "\n",
        "Then, use `info()` again to make sure your change was applied. Note the\n",
        "difference in the output, relative to the cell above."
      ]
    },
    {
      "cell_type": "code",
      "metadata": {
        "id": "iBsd8NQSYPOz",
        "colab_type": "code",
        "colab": {
          "base_uri": "https://localhost:8080/",
          "height": 357
        },
        "outputId": "b81ecbec-74ae-472f-d2ee-c151f00b54f4"
      },
      "source": [
        "# TODO Q4\n",
        "df['date'] = pd.to_datetime(df['date'])\n",
        "df.info()\n",
        "\n"
      ],
      "execution_count": 108,
      "outputs": [
        {
          "output_type": "stream",
          "text": [
            "<class 'pandas.core.frame.DataFrame'>\n",
            "RangeIndex: 547922 entries, 0 to 547921\n",
            "Data columns (total 13 columns):\n",
            " #   Column                                              Non-Null Count   Dtype         \n",
            "---  ------                                              --------------   -----         \n",
            " 0   country_region_code                                 546981 non-null  object        \n",
            " 1   country_region                                      547922 non-null  object        \n",
            " 2   sub_region_1                                        531587 non-null  object        \n",
            " 3   sub_region_2                                        316625 non-null  object        \n",
            " 4   iso_3166_2_code                                     198752 non-null  object        \n",
            " 5   census_fips_code                                    316746 non-null  float64       \n",
            " 6   date                                                547922 non-null  datetime64[ns]\n",
            " 7   retail_and_recreation_percent_change_from_baseline  423131 non-null  float64       \n",
            " 8   grocery_and_pharmacy_percent_change_from_baseline   406061 non-null  float64       \n",
            " 9   parks_percent_change_from_baseline                  252128 non-null  float64       \n",
            " 10  transit_stations_percent_change_from_baseline       292057 non-null  float64       \n",
            " 11  workplaces_percent_change_from_baseline             534124 non-null  float64       \n",
            " 12  residential_percent_change_from_baseline            302313 non-null  float64       \n",
            "dtypes: datetime64[ns](1), float64(7), object(5)\n",
            "memory usage: 54.3+ MB\n"
          ],
          "name": "stdout"
        }
      ]
    },
    {
      "cell_type": "markdown",
      "metadata": {
        "id": "8VLgTATGYPO7",
        "colab_type": "text"
      },
      "source": [
        "Next, you are going to extract the subset of data for the location of\n",
        "your choice. You can choose any location *except* Brooklyn, New York.\n",
        "(You can’t choose Brooklyn because the example code I’m about to show\n",
        "you is for Brooklyn.)\n",
        "\n",
        "The data is reported for different regions, with different levels of\n",
        "granularity available. This is best explained by example:\n",
        "\n",
        "Suppose I want the overall trend from the entire U.S. I would use the\n",
        "subset of data where `country_region` is equal to “United States” and\n",
        "`sub_region_1` is null:\n",
        "\n",
        "    df_subset = df[(df['country_region'].eq(\"United States\")) & (df['sub_region_1'].isnull())]\n",
        "\n",
        "Suppose I want the overall trend from the entire state of New York: I\n",
        "would use the subset of data where `country_region` is equal to “United\n",
        "States”, `sub_region_1` is equal to “New York”, and `sub_region_2` is\n",
        "null:\n",
        "\n",
        "    df_subset = df[(df['country_region'].eq(\"United States\")) & (df['sub_region_1'].eq(\"New York\")) & (df['sub_region_2'].isnull())]\n",
        "\n",
        "Suppose I want the overall trend from Brooklyn, New York (Kings County):\n",
        "I would use the subset of data where `country_region` is equal to\n",
        "“United States”, `sub_region_1` is equal to “New York”, and\n",
        "`sub_region_2` is equal to “Kings County”:\n",
        "\n",
        "    df_subset = df[(df['country_region'].eq(\"United States\")) & (df['sub_region_1'].eq(\"New York\")) & (df['sub_region_2'].eq(\"Kings County\"))]\n",
        "\n",
        "In the following cell(s), fill in the code to create a data frame\n",
        "`df_subset` with data from a single location. You can go down to the\n",
        "`sub_region_1` level or the `sub_region_2` level - depending on the\n",
        "location you chose, the finer level of granularity may not be available."
      ]
    },
    {
      "cell_type": "code",
      "metadata": {
        "id": "uCuYCLs2YPO8",
        "colab_type": "code",
        "colab": {
          "base_uri": "https://localhost:8080/",
          "height": 357
        },
        "outputId": "1bc295a4-3706-402c-bac6-38a2bcf19ded"
      },
      "source": [
        "# TODO Q5\n",
        "df_subset = df[(df['country_region'].eq(\"South Korea\"))]\n",
        "df_subset.info()"
      ],
      "execution_count": 109,
      "outputs": [
        {
          "output_type": "stream",
          "text": [
            "<class 'pandas.core.frame.DataFrame'>\n",
            "Int64Index: 121 entries, 121159 to 121279\n",
            "Data columns (total 13 columns):\n",
            " #   Column                                              Non-Null Count  Dtype         \n",
            "---  ------                                              --------------  -----         \n",
            " 0   country_region_code                                 121 non-null    object        \n",
            " 1   country_region                                      121 non-null    object        \n",
            " 2   sub_region_1                                        0 non-null      object        \n",
            " 3   sub_region_2                                        0 non-null      object        \n",
            " 4   iso_3166_2_code                                     0 non-null      object        \n",
            " 5   census_fips_code                                    0 non-null      float64       \n",
            " 6   date                                                121 non-null    datetime64[ns]\n",
            " 7   retail_and_recreation_percent_change_from_baseline  121 non-null    float64       \n",
            " 8   grocery_and_pharmacy_percent_change_from_baseline   121 non-null    float64       \n",
            " 9   parks_percent_change_from_baseline                  121 non-null    float64       \n",
            " 10  transit_stations_percent_change_from_baseline       121 non-null    float64       \n",
            " 11  workplaces_percent_change_from_baseline             121 non-null    float64       \n",
            " 12  residential_percent_change_from_baseline            121 non-null    float64       \n",
            "dtypes: datetime64[ns](1), float64(7), object(5)\n",
            "memory usage: 13.2+ KB\n"
          ],
          "name": "stdout"
        }
      ]
    },
    {
      "cell_type": "markdown",
      "metadata": {
        "id": "MZvhEsJ1YPPH",
        "colab_type": "text"
      },
      "source": [
        "Is the data complete, or is some data not available for the location you\n",
        "have chosen? In the following cell, write code to check for missing data\n",
        "in the `...percent_change_from_baseline` fields."
      ]
    },
    {
      "cell_type": "code",
      "metadata": {
        "id": "1bCaE0EZYPPJ",
        "colab_type": "code",
        "colab": {
          "base_uri": "https://localhost:8080/",
          "height": 34
        },
        "outputId": "86980c0d-c918-4010-c88d-97d9e537b0c5"
      },
      "source": [
        "# TODO Q6\n",
        "subset_total = df_subset.country_region_code.count()\n",
        "truth_value = True\n",
        "if subset_total != df_subset.retail_and_recreation_percent_change_from_baseline.count() :\n",
        "  print (\"Retail and recreation percentage data is missing\")\n",
        "  truth_value &= False\n",
        "if subset_total != df_subset.grocery_and_pharmacy_percent_change_from_baseline.count() :\n",
        "  print (\"Grocery and pharmacy percentage data is missing\")\n",
        "  truth_value &= False\n",
        "if subset_total != df_subset.parks_percent_change_from_baseline.count() :\n",
        "  print (\"Parks percentage data is missing\")\n",
        "  truth_value &= False\n",
        "if subset_total != df_subset.transit_stations_percent_change_from_baseline.count() :\n",
        "  print (\"Transit stations percentage data is missing\")\n",
        "  truth_value &= False\n",
        "if subset_total != df_subset.workplaces_percent_change_from_baseline.count() :\n",
        "  print (\"Workplaces percentage data is missing\")\n",
        "  truth_value &= False\n",
        "if subset_total != df_subset.residential_percent_change_from_baseline.count() :\n",
        "  print (\"Residential percentage data is missing\")\n",
        "  truth_value &= False\n",
        "if truth_value == True :\n",
        "  print (\"No percentage data is missing\")\n"
      ],
      "execution_count": 110,
      "outputs": [
        {
          "output_type": "stream",
          "text": [
            "No percentage data is missing\n"
          ],
          "name": "stdout"
        }
      ]
    },
    {
      "cell_type": "markdown",
      "metadata": {
        "id": "iWInTAX9YPPa",
        "colab_type": "text"
      },
      "source": [
        "**TODO** Q7: Edit this cell to answer the following question: Is the\n",
        "data complete, or is some relevant data missing? Why would some\n",
        "locations only have partial data available (missing some\n",
        "`...percent_change_from_baseline` fields for some dates)? **Include a\n",
        "short quote from the material you read in the “Learn about the data”\n",
        "section to answer this question.**\n",
        "\n",
        "**ANSWER:**\n",
        "\n",
        "Here's a quote regarding the possible missing data according to the csv documentation:\n",
        "\n",
        "\"What data is included in the calculation depends on user settings, connectivity, and whether it meets our privacy threshold. If the privacy threshold isn’t met (when somewhere isn’t busy enough to ensure anonymity) we don’t show a change for the day. As a result, you may encounter empty fields for certain places and dates.\"\n",
        "\n",
        "The Queens data is complete because the data they collected met privacy threshold requirements. \n",
        "\n",
        "---------------------------------------------------------------------------- "
      ]
    },
    {
      "cell_type": "markdown",
      "metadata": {
        "id": "ATNPyCJeYPPb",
        "colab_type": "text"
      },
      "source": [
        "For this data, the `date` field is important, but we don’t necessarily\n",
        "care about the absolute date. Instead, we care about how many days have\n",
        "elapsed since the first confirmed case of COVID-19 in this location, how\n",
        "many days have elapsed since a “stay at home” order or similar rule was\n",
        "established in this location (if there was one) and how many days have\n",
        "elapsed since it was lifted (if applicable).\n",
        "\n",
        "For example, in Brooklyn, New York, I might compute:\n",
        "\n",
        "    days_since_lockdown = (df_ny_all['date'] - pd.to_datetime('2020-03-20 00:00:00')).dt.days.values\n",
        "    # NYC lockdown March 20, 2020 https://www.nytimes.com/2020/03/20/us/coronavirus-today.html\n",
        "\n",
        "Compute “days since \\[some relevant COVID-19 date\\]” for your location.\n",
        "In a comment, explain the significance of the date you have chosen, and\n",
        "include a link to a news article or other reference supporting the\n",
        "significance of the date. (The news article does not have to be in\n",
        "English.)"
      ]
    },
    {
      "cell_type": "code",
      "metadata": {
        "id": "gKrZEROLYPPe",
        "colab_type": "code",
        "colab": {
          "base_uri": "https://localhost:8080/",
          "height": 136
        },
        "outputId": "f49302dd-131f-4a24-f22a-c9adc14e0070"
      },
      "source": [
        "# TODO Q8\n",
        "days_since_firstcase = (df_subset['date'] - pd.to_datetime('2020-01-20')).dt.days.values\n",
        "print(days_since_firstcase)\n",
        "# First day of confirmed case in South Korea was January 20 https://www.cdc.go.kr/board/board.es?mid=a30402000000&bid=0030&act=view&list_no=365797"
      ],
      "execution_count": 111,
      "outputs": [
        {
          "output_type": "stream",
          "text": [
            "[ 26  27  28  29  30  31  32  33  34  35  36  37  38  39  40  41  42  43\n",
            "  44  45  46  47  48  49  50  51  52  53  54  55  56  57  58  59  60  61\n",
            "  62  63  64  65  66  67  68  69  70  71  72  73  74  75  76  77  78  79\n",
            "  80  81  82  83  84  85  86  87  88  89  90  91  92  93  94  95  96  97\n",
            "  98  99 100 101 102 103 104 105 106 107 108 109 110 111 112 113 114 115\n",
            " 116 117 118 119 120 121 122 123 124 125 126 127 128 129 130 131 132 133\n",
            " 134 135 136 137 138 139 140 141 142 143 144 145 146]\n"
          ],
          "name": "stdout"
        }
      ]
    },
    {
      "cell_type": "markdown",
      "metadata": {
        "id": "c8PNes3hYPPq",
        "colab_type": "text"
      },
      "source": [
        "Visualize data\n",
        "--------------\n",
        "\n",
        "Finally, we are going to visualize the changes in human mobility over\n",
        "this time.\n",
        "\n",
        "In the following cell, create a figure with six subplots, arranged\n",
        "vertically. (You can refer to the example in the “Python + numpy”\n",
        "notebook from this week’s lesson.) On the horizontal axis, put the\n",
        "`days_since...` array you computed in the previous cell. On the vertical\n",
        "axes, show:\n",
        "\n",
        "-   `retail_and_recreation_percent_change_from_baseline` in the top\n",
        "    subplot\n",
        "-   `grocery_and_pharmacy_percent_change_from_baseline` in the next\n",
        "    subplot\n",
        "-   `parks_percent_change_from_baseline` in the next subplot\n",
        "-   `transit_stations_percent_change_from_baseline` in the next subplot\n",
        "-   `workplaces_percent_change_from_baseline` in the next subplot\n",
        "-   `residential_percent_change_from_baseline` in the bottom subplot"
      ]
    },
    {
      "cell_type": "code",
      "metadata": {
        "id": "RLeQF7dwYPPt",
        "colab_type": "code",
        "colab": {
          "base_uri": "https://localhost:8080/",
          "height": 488
        },
        "outputId": "5f5664c7-d2cb-437d-f589-d707c54da25d"
      },
      "source": [
        "# TODO Q9\n",
        "import numpy as np\n",
        "x = days_since_firstcase\n",
        "fig, axs = plt.subplots(6)\n",
        "plt.subplots_adjust(left= 0, bottom=-0.5, right=None, top=None, wspace=None, hspace=1) \n",
        "axs[0].plot(x, np.array(df_subset['retail_and_recreation_percent_change_from_baseline']))\n",
        "axs[0].set_title(\"Retail and recreation\", size=9)\n",
        "axs[1].plot(x, np.array(df_subset['grocery_and_pharmacy_percent_change_from_baseline']))\n",
        "axs[1].set_title(\"Grocery and pharmacy\", size=9)\n",
        "axs[2].plot(x, np.array(df_subset['parks_percent_change_from_baseline']))\n",
        "axs[2].set_title(\"Parks\", size=9)\n",
        "axs[3].plot(x, np.array(df_subset['transit_stations_percent_change_from_baseline']))\n",
        "axs[3].set_title(\"Transit stations\", size=9)\n",
        "axs[4].plot(x, np.array(df_subset['workplaces_percent_change_from_baseline']))\n",
        "axs[4].set_title(\"Workplaces\", size=9)\n",
        "axs[5].plot(x, np.array(df_subset['residential_percent_change_from_baseline']))\n",
        "axs[5].set_title(\"Residential\", size=9)\n",
        "for x in range (0,6):\n",
        "  axs[x].set_ylim(-100,180)\n",
        "plt.xlabel('days since first case')\n",
        "fig.suptitle(\"Changes in Korea since first case of COVID\",size=15)\n",
        "fig.text(-0.1, 0.1, 'Percentage change in data from baseline', ha='center', va='center', rotation='vertical')\n",
        "plt.grid()"
      ],
      "execution_count": 112,
      "outputs": [
        {
          "output_type": "display_data",
          "data": {
            "image/png": "[encoded data removed]",
            "text/plain": [
              "<Figure size 432x288 with 6 Axes>"
            ]
          },
          "metadata": {
            "tags": [],
            "needs_background": "light"
          }
        }
      ]
    },
    {
      "cell_type": "markdown",
      "metadata": {
        "id": "amb1lRkJYPP4",
        "colab_type": "text"
      },
      "source": [
        "**TODO** Q10: Answer the following question: Do the results seem to\n",
        "satisfy “common sense”? Explain, citing specific data from your plot to\n",
        "support your answer.\n",
        "\n",
        "**ANSWER:**\n",
        "\n",
        "The results seem to satisfy \"common sense\". We see the biggest uptick in our graph for parks as days progressed from the first case. Since data is taken from February to June, it reflects the change from colder months to warmer Summer months. Korea never officially had a lockdown but citizens were encouraged to practice health guidelines. Parks which are openly ventilated areas would have seen regualar usage normal to this time of the year weather-wise. Other than parks, the rest of the data doesn't show a large change mostly staying near the baseline which makes sense for Korea.\n",
        "\n",
        "---------------------------------------------------------------------------- \n",
        "\n",
        "**TODO** Q11: In the [Calibrate\n",
        "Region](https://support.google.com/covid19-mobility/checklist/9834261?hl=en&ref_topic=9822927)\n",
        "checklist, Google suggests a number of reasons why the data might *not*\n",
        "be useful for understanding the effect of COVID-19-related lockdowns, or\n",
        "why the data might be misleading. For the location you have chosen,\n",
        "briefly answer all of the questions in that checklist. Based on your\n",
        "answers, do you think there are any serious problems associated with\n",
        "using this data for understanding user mobility changes due to COVID-19?\n",
        "\n",
        "**ANSWER:**\n",
        "\n",
        "Q1: Did anything significant happen between Jan 3 and Feb 6, 2020? \n",
        "\n",
        "Korea's weather is similar to New York so weather would have been appropriate to winter conditions and therefore cold. \n",
        "\n",
        "Q2: How do park visitors change from January to now?\n",
        "\n",
        "With weather getting warmer compared to January, as the days progress forward, there is a rise in park visitors.\n",
        "\n",
        "Q3: How much more time do you think people will spend in residential places?\n",
        "\n",
        "Based on the fact that Korea didn't have a lockdown, I would guess the time spent in residential places would increase only a small amount.\n",
        "\n",
        "Q4: How might types of work affect the mobility changes on weekdays or weekends?\n",
        "\n",
        "Most jobs in Korea and more specifically in Seoul, would be desk jobs in companies. Much like New York City, most workers need to commute using public transportation and is a preferred method for its affordability and reliability. Since there was no lockdown or limitations given for public transportation, there is likely a small decline.\n",
        "\n",
        "Q5: How well is your region represented?\n",
        "\n",
        "Since the data is said to be from South Korea in general, it is hard to tell how well the region is represented. Korea has a main city, Seoul, where most of the population is centered. Korea being a country that didn't have a lockdown,  the change in data with the exception of parks accounting for warm weather, seems an appropriate data set representation of the region.\n",
        "\n",
        "\n",
        "\n",
        "\n",
        "---------------------------------------------------------------------------- "
      ]
    }
  ]
}